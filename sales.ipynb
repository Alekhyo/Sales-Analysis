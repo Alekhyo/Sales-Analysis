{
  "nbformat": 4,
  "nbformat_minor": 0,
  "metadata": {
    "kernelspec": {
      "display_name": "Python 3",
      "language": "python",
      "name": "python3"
    },
    "language_info": {
      "codemirror_mode": {
        "name": "ipython",
        "version": 3
      },
      "file_extension": ".py",
      "mimetype": "text/x-python",
      "name": "python",
      "nbconvert_exporter": "python",
      "pygments_lexer": "ipython3",
      "version": "3.7.6"
    },
    "colab": {
      "name": "sales.ipynb",
      "provenance": [],
      "collapsed_sections": [],
      "include_colab_link": true
    }
  },
  "cells": [
    {
      "cell_type": "markdown",
      "metadata": {
        "id": "view-in-github",
        "colab_type": "text"
      },
      "source": [
        "<a href=\"https://colab.research.google.com/github/Alekhyo/Sales-Analysis/blob/master/sales.ipynb\" target=\"_parent\"><img src=\"https://colab.research.google.com/assets/colab-badge.svg\" alt=\"Open In Colab\"/></a>"
      ]
    },
    {
      "cell_type": "code",
      "metadata": {
        "id": "t1Jr3px25XoO",
        "colab_type": "code",
        "colab": {}
      },
      "source": [
        "import pandas as pd\n",
        "import os"
      ],
      "execution_count": 0,
      "outputs": []
    },
    {
      "cell_type": "markdown",
      "metadata": {
        "id": "vENU-cM_5XoT",
        "colab_type": "text"
      },
      "source": [
        "# Reading all the data"
      ]
    },
    {
      "cell_type": "code",
      "metadata": {
        "id": "ZmfTV-K15XoT",
        "colab_type": "code",
        "colab": {}
      },
      "source": [
        "files=[file for file in os.listdir('D:\\Pandas-Data-Science-Tasks-master\\Pandas-Data-Science-Tasks-master\\SalesAnalysis\\Sales_Data')]\n",
        "\n",
        "\n",
        "\n",
        "data=pd.DataFrame()\n",
        "\n",
        "for file in files:\n",
        "    df=pd.read_csv(\"D:\\Pandas-Data-Science-Tasks-master\\Pandas-Data-Science-Tasks-master\\SalesAnalysis\\Sales_Data/\"+file)\n",
        "    data=pd.concat([data,df])\n",
        "\n",
        "data.to_csv(\"all_data.csv\",index=False)"
      ],
      "execution_count": 0,
      "outputs": []
    },
    {
      "cell_type": "code",
      "metadata": {
        "id": "43M5zkgL5XoY",
        "colab_type": "code",
        "colab": {},
        "outputId": "4d42068c-5435-4096-ca32-dc1be5299eab"
      },
      "source": [
        "data=pd.read_csv(\"all_data.csv\")\n",
        "data.head()"
      ],
      "execution_count": 0,
      "outputs": [
        {
          "output_type": "execute_result",
          "data": {
            "text/html": [
              "<div>\n",
              "<style scoped>\n",
              "    .dataframe tbody tr th:only-of-type {\n",
              "        vertical-align: middle;\n",
              "    }\n",
              "\n",
              "    .dataframe tbody tr th {\n",
              "        vertical-align: top;\n",
              "    }\n",
              "\n",
              "    .dataframe thead th {\n",
              "        text-align: right;\n",
              "    }\n",
              "</style>\n",
              "<table border=\"1\" class=\"dataframe\">\n",
              "  <thead>\n",
              "    <tr style=\"text-align: right;\">\n",
              "      <th></th>\n",
              "      <th>Order ID</th>\n",
              "      <th>Product</th>\n",
              "      <th>Quantity Ordered</th>\n",
              "      <th>Price Each</th>\n",
              "      <th>Order Date</th>\n",
              "      <th>Purchase Address</th>\n",
              "    </tr>\n",
              "  </thead>\n",
              "  <tbody>\n",
              "    <tr>\n",
              "      <th>0</th>\n",
              "      <td>176558</td>\n",
              "      <td>USB-C Charging Cable</td>\n",
              "      <td>2</td>\n",
              "      <td>11.95</td>\n",
              "      <td>04/19/19 08:46</td>\n",
              "      <td>917 1st St, Dallas, TX 75001</td>\n",
              "    </tr>\n",
              "    <tr>\n",
              "      <th>1</th>\n",
              "      <td>NaN</td>\n",
              "      <td>NaN</td>\n",
              "      <td>NaN</td>\n",
              "      <td>NaN</td>\n",
              "      <td>NaN</td>\n",
              "      <td>NaN</td>\n",
              "    </tr>\n",
              "    <tr>\n",
              "      <th>2</th>\n",
              "      <td>176559</td>\n",
              "      <td>Bose SoundSport Headphones</td>\n",
              "      <td>1</td>\n",
              "      <td>99.99</td>\n",
              "      <td>04/07/19 22:30</td>\n",
              "      <td>682 Chestnut St, Boston, MA 02215</td>\n",
              "    </tr>\n",
              "    <tr>\n",
              "      <th>3</th>\n",
              "      <td>176560</td>\n",
              "      <td>Google Phone</td>\n",
              "      <td>1</td>\n",
              "      <td>600</td>\n",
              "      <td>04/12/19 14:38</td>\n",
              "      <td>669 Spruce St, Los Angeles, CA 90001</td>\n",
              "    </tr>\n",
              "    <tr>\n",
              "      <th>4</th>\n",
              "      <td>176560</td>\n",
              "      <td>Wired Headphones</td>\n",
              "      <td>1</td>\n",
              "      <td>11.99</td>\n",
              "      <td>04/12/19 14:38</td>\n",
              "      <td>669 Spruce St, Los Angeles, CA 90001</td>\n",
              "    </tr>\n",
              "  </tbody>\n",
              "</table>\n",
              "</div>"
            ],
            "text/plain": [
              "  Order ID                     Product Quantity Ordered Price Each  \\\n",
              "0   176558        USB-C Charging Cable                2      11.95   \n",
              "1      NaN                         NaN              NaN        NaN   \n",
              "2   176559  Bose SoundSport Headphones                1      99.99   \n",
              "3   176560                Google Phone                1        600   \n",
              "4   176560            Wired Headphones                1      11.99   \n",
              "\n",
              "       Order Date                      Purchase Address  \n",
              "0  04/19/19 08:46          917 1st St, Dallas, TX 75001  \n",
              "1             NaN                                   NaN  \n",
              "2  04/07/19 22:30     682 Chestnut St, Boston, MA 02215  \n",
              "3  04/12/19 14:38  669 Spruce St, Los Angeles, CA 90001  \n",
              "4  04/12/19 14:38  669 Spruce St, Los Angeles, CA 90001  "
            ]
          },
          "metadata": {
            "tags": []
          },
          "execution_count": 4
        }
      ]
    },
    {
      "cell_type": "markdown",
      "metadata": {
        "id": "0yZapT8j5Xoc",
        "colab_type": "text"
      },
      "source": [
        "# Droppping NaN values"
      ]
    },
    {
      "cell_type": "code",
      "metadata": {
        "id": "OwJi_FU95Xod",
        "colab_type": "code",
        "colab": {}
      },
      "source": [
        "data=data.dropna(how='any')"
      ],
      "execution_count": 0,
      "outputs": []
    },
    {
      "cell_type": "markdown",
      "metadata": {
        "id": "wSiKRaFn5Xog",
        "colab_type": "text"
      },
      "source": [
        "# Dropping Date with 'Or'"
      ]
    },
    {
      "cell_type": "code",
      "metadata": {
        "id": "vi7K-r4V5Xoh",
        "colab_type": "code",
        "colab": {}
      },
      "source": [
        "data=data[data['Order Date'].str[0:2]!='Or']"
      ],
      "execution_count": 0,
      "outputs": []
    },
    {
      "cell_type": "markdown",
      "metadata": {
        "id": "Bj8ggTWW5Xol",
        "colab_type": "text"
      },
      "source": [
        "# Changing Date type from str to int and  adding 'Month' Column"
      ]
    },
    {
      "cell_type": "code",
      "metadata": {
        "id": "doD0oKNl5Xom",
        "colab_type": "code",
        "colab": {}
      },
      "source": [
        "data['Month']=data['Order Date'].str[0:2].astype('int64')"
      ],
      "execution_count": 0,
      "outputs": []
    },
    {
      "cell_type": "code",
      "metadata": {
        "id": "ArvDm-9F5Xop",
        "colab_type": "code",
        "colab": {},
        "outputId": "e65c803b-ac2b-453c-9cf6-3ae6627e38b7"
      },
      "source": [
        "data"
      ],
      "execution_count": 0,
      "outputs": [
        {
          "output_type": "execute_result",
          "data": {
            "text/html": [
              "<div>\n",
              "<style scoped>\n",
              "    .dataframe tbody tr th:only-of-type {\n",
              "        vertical-align: middle;\n",
              "    }\n",
              "\n",
              "    .dataframe tbody tr th {\n",
              "        vertical-align: top;\n",
              "    }\n",
              "\n",
              "    .dataframe thead th {\n",
              "        text-align: right;\n",
              "    }\n",
              "</style>\n",
              "<table border=\"1\" class=\"dataframe\">\n",
              "  <thead>\n",
              "    <tr style=\"text-align: right;\">\n",
              "      <th></th>\n",
              "      <th>Order ID</th>\n",
              "      <th>Product</th>\n",
              "      <th>Quantity Ordered</th>\n",
              "      <th>Price Each</th>\n",
              "      <th>Order Date</th>\n",
              "      <th>Purchase Address</th>\n",
              "      <th>Month</th>\n",
              "    </tr>\n",
              "  </thead>\n",
              "  <tbody>\n",
              "    <tr>\n",
              "      <th>0</th>\n",
              "      <td>176558</td>\n",
              "      <td>USB-C Charging Cable</td>\n",
              "      <td>2</td>\n",
              "      <td>11.95</td>\n",
              "      <td>04/19/19 08:46</td>\n",
              "      <td>917 1st St, Dallas, TX 75001</td>\n",
              "      <td>4</td>\n",
              "    </tr>\n",
              "    <tr>\n",
              "      <th>2</th>\n",
              "      <td>176559</td>\n",
              "      <td>Bose SoundSport Headphones</td>\n",
              "      <td>1</td>\n",
              "      <td>99.99</td>\n",
              "      <td>04/07/19 22:30</td>\n",
              "      <td>682 Chestnut St, Boston, MA 02215</td>\n",
              "      <td>4</td>\n",
              "    </tr>\n",
              "    <tr>\n",
              "      <th>3</th>\n",
              "      <td>176560</td>\n",
              "      <td>Google Phone</td>\n",
              "      <td>1</td>\n",
              "      <td>600</td>\n",
              "      <td>04/12/19 14:38</td>\n",
              "      <td>669 Spruce St, Los Angeles, CA 90001</td>\n",
              "      <td>4</td>\n",
              "    </tr>\n",
              "    <tr>\n",
              "      <th>4</th>\n",
              "      <td>176560</td>\n",
              "      <td>Wired Headphones</td>\n",
              "      <td>1</td>\n",
              "      <td>11.99</td>\n",
              "      <td>04/12/19 14:38</td>\n",
              "      <td>669 Spruce St, Los Angeles, CA 90001</td>\n",
              "      <td>4</td>\n",
              "    </tr>\n",
              "    <tr>\n",
              "      <th>5</th>\n",
              "      <td>176561</td>\n",
              "      <td>Wired Headphones</td>\n",
              "      <td>1</td>\n",
              "      <td>11.99</td>\n",
              "      <td>04/30/19 09:27</td>\n",
              "      <td>333 8th St, Los Angeles, CA 90001</td>\n",
              "      <td>4</td>\n",
              "    </tr>\n",
              "    <tr>\n",
              "      <th>...</th>\n",
              "      <td>...</td>\n",
              "      <td>...</td>\n",
              "      <td>...</td>\n",
              "      <td>...</td>\n",
              "      <td>...</td>\n",
              "      <td>...</td>\n",
              "      <td>...</td>\n",
              "    </tr>\n",
              "    <tr>\n",
              "      <th>186845</th>\n",
              "      <td>259353</td>\n",
              "      <td>AAA Batteries (4-pack)</td>\n",
              "      <td>3</td>\n",
              "      <td>2.99</td>\n",
              "      <td>09/17/19 20:56</td>\n",
              "      <td>840 Highland St, Los Angeles, CA 90001</td>\n",
              "      <td>9</td>\n",
              "    </tr>\n",
              "    <tr>\n",
              "      <th>186846</th>\n",
              "      <td>259354</td>\n",
              "      <td>iPhone</td>\n",
              "      <td>1</td>\n",
              "      <td>700</td>\n",
              "      <td>09/01/19 16:00</td>\n",
              "      <td>216 Dogwood St, San Francisco, CA 94016</td>\n",
              "      <td>9</td>\n",
              "    </tr>\n",
              "    <tr>\n",
              "      <th>186847</th>\n",
              "      <td>259355</td>\n",
              "      <td>iPhone</td>\n",
              "      <td>1</td>\n",
              "      <td>700</td>\n",
              "      <td>09/23/19 07:39</td>\n",
              "      <td>220 12th St, San Francisco, CA 94016</td>\n",
              "      <td>9</td>\n",
              "    </tr>\n",
              "    <tr>\n",
              "      <th>186848</th>\n",
              "      <td>259356</td>\n",
              "      <td>34in Ultrawide Monitor</td>\n",
              "      <td>1</td>\n",
              "      <td>379.99</td>\n",
              "      <td>09/19/19 17:30</td>\n",
              "      <td>511 Forest St, San Francisco, CA 94016</td>\n",
              "      <td>9</td>\n",
              "    </tr>\n",
              "    <tr>\n",
              "      <th>186849</th>\n",
              "      <td>259357</td>\n",
              "      <td>USB-C Charging Cable</td>\n",
              "      <td>1</td>\n",
              "      <td>11.95</td>\n",
              "      <td>09/30/19 00:18</td>\n",
              "      <td>250 Meadow St, San Francisco, CA 94016</td>\n",
              "      <td>9</td>\n",
              "    </tr>\n",
              "  </tbody>\n",
              "</table>\n",
              "<p>185950 rows × 7 columns</p>\n",
              "</div>"
            ],
            "text/plain": [
              "       Order ID                     Product Quantity Ordered Price Each  \\\n",
              "0        176558        USB-C Charging Cable                2      11.95   \n",
              "2        176559  Bose SoundSport Headphones                1      99.99   \n",
              "3        176560                Google Phone                1        600   \n",
              "4        176560            Wired Headphones                1      11.99   \n",
              "5        176561            Wired Headphones                1      11.99   \n",
              "...         ...                         ...              ...        ...   \n",
              "186845   259353      AAA Batteries (4-pack)                3       2.99   \n",
              "186846   259354                      iPhone                1        700   \n",
              "186847   259355                      iPhone                1        700   \n",
              "186848   259356      34in Ultrawide Monitor                1     379.99   \n",
              "186849   259357        USB-C Charging Cable                1      11.95   \n",
              "\n",
              "            Order Date                         Purchase Address  Month  \n",
              "0       04/19/19 08:46             917 1st St, Dallas, TX 75001      4  \n",
              "2       04/07/19 22:30        682 Chestnut St, Boston, MA 02215      4  \n",
              "3       04/12/19 14:38     669 Spruce St, Los Angeles, CA 90001      4  \n",
              "4       04/12/19 14:38     669 Spruce St, Los Angeles, CA 90001      4  \n",
              "5       04/30/19 09:27        333 8th St, Los Angeles, CA 90001      4  \n",
              "...                ...                                      ...    ...  \n",
              "186845  09/17/19 20:56   840 Highland St, Los Angeles, CA 90001      9  \n",
              "186846  09/01/19 16:00  216 Dogwood St, San Francisco, CA 94016      9  \n",
              "186847  09/23/19 07:39     220 12th St, San Francisco, CA 94016      9  \n",
              "186848  09/19/19 17:30   511 Forest St, San Francisco, CA 94016      9  \n",
              "186849  09/30/19 00:18   250 Meadow St, San Francisco, CA 94016      9  \n",
              "\n",
              "[185950 rows x 7 columns]"
            ]
          },
          "metadata": {
            "tags": []
          },
          "execution_count": 8
        }
      ]
    },
    {
      "cell_type": "markdown",
      "metadata": {
        "id": "X_b4u9tx5Xor",
        "colab_type": "text"
      },
      "source": [
        "# Changing Data Types and adding 'Total Sales' column"
      ]
    },
    {
      "cell_type": "code",
      "metadata": {
        "id": "RV0lFPEg5Xos",
        "colab_type": "code",
        "colab": {}
      },
      "source": [
        "data['Quantity Ordered']=data['Quantity Ordered'].astype('int64')"
      ],
      "execution_count": 0,
      "outputs": []
    },
    {
      "cell_type": "code",
      "metadata": {
        "id": "Pq2GpSSX5Xou",
        "colab_type": "code",
        "colab": {}
      },
      "source": [
        "data['Price Each']=data['Price Each'].astype('float')"
      ],
      "execution_count": 0,
      "outputs": []
    },
    {
      "cell_type": "code",
      "metadata": {
        "id": "8h09VACl5Xox",
        "colab_type": "code",
        "colab": {}
      },
      "source": [
        "data['Total Sales']=data['Quantity Ordered']*data['Price Each']"
      ],
      "execution_count": 0,
      "outputs": []
    },
    {
      "cell_type": "markdown",
      "metadata": {
        "id": "lJPcNGnw5Xoz",
        "colab_type": "text"
      },
      "source": [
        "## Q1. What was  the best month for sales? How much was earned that month?"
      ]
    },
    {
      "cell_type": "code",
      "metadata": {
        "id": "b6t8wU5W5Xo0",
        "colab_type": "code",
        "colab": {},
        "outputId": "15b33669-0776-4af7-f67c-b27db3c13ef9"
      },
      "source": [
        "results=data.groupby('Month')['Total Sales'].sum()\n",
        "results"
      ],
      "execution_count": 0,
      "outputs": [
        {
          "output_type": "execute_result",
          "data": {
            "text/plain": [
              "Month\n",
              "1     1.822257e+06\n",
              "2     2.202022e+06\n",
              "3     2.807100e+06\n",
              "4     3.390670e+06\n",
              "5     3.152607e+06\n",
              "6     2.577802e+06\n",
              "7     2.647776e+06\n",
              "8     2.244468e+06\n",
              "9     2.097560e+06\n",
              "10    3.736727e+06\n",
              "11    3.199603e+06\n",
              "12    4.613443e+06\n",
              "Name: Total Sales, dtype: float64"
            ]
          },
          "metadata": {
            "tags": []
          },
          "execution_count": 12
        }
      ]
    },
    {
      "cell_type": "code",
      "metadata": {
        "id": "9hsz6O_u5Xo2",
        "colab_type": "code",
        "colab": {},
        "outputId": "8fddab91-902a-4cb6-f5a6-26551e8270c7"
      },
      "source": [
        "import matplotlib.pyplot as plt\n",
        "\n",
        "months= range(1,13)\n",
        "\n",
        "plt.bar(months,results)\n",
        "\n",
        "plt.xticks(months)\n",
        "plt.ylabel('Sales in USD ($) ')\n",
        "plt.xlabel('Month Number')\n",
        "\n",
        "plt.show()"
      ],
      "execution_count": 0,
      "outputs": [
        {
          "output_type": "display_data",
          "data": {
            "image/png": "[encoded data removed]",
            "text/plain": [
              "<Figure size 432x288 with 1 Axes>"
            ]
          },
          "metadata": {
            "tags": [],
            "needs_background": "light"
          }
        }
      ]
    },
    {
      "cell_type": "code",
      "metadata": {
        "id": "H5Qr9kKV5Xo6",
        "colab_type": "code",
        "colab": {}
      },
      "source": [
        ""
      ],
      "execution_count": 0,
      "outputs": []
    },
    {
      "cell_type": "code",
      "metadata": {
        "id": "JOYjl04K5Xo9",
        "colab_type": "code",
        "colab": {}
      },
      "source": [
        ""
      ],
      "execution_count": 0,
      "outputs": []
    },
    {
      "cell_type": "code",
      "metadata": {
        "id": "AFozHRVi5XpW",
        "colab_type": "code",
        "colab": {}
      },
      "source": [
        ""
      ],
      "execution_count": 0,
      "outputs": []
    },
    {
      "cell_type": "markdown",
      "metadata": {
        "id": "BwQYIwQr5Xpa",
        "colab_type": "text"
      },
      "source": [
        "## Q2. What City has the highest number of sales?"
      ]
    },
    {
      "cell_type": "code",
      "metadata": {
        "id": "sXQIQun15Xpa",
        "colab_type": "code",
        "colab": {}
      },
      "source": [
        "data['City']=data['Purchase Address'].apply(lambda x:x.split(\",\")[1]+\",\"+x.split(\",\")[2].split(\" \")[1])"
      ],
      "execution_count": 0,
      "outputs": []
    },
    {
      "cell_type": "code",
      "metadata": {
        "id": "HaVBkdBY5Xpd",
        "colab_type": "code",
        "colab": {},
        "outputId": "e8eafb6d-6967-41d0-b3a4-b5418c4082fa"
      },
      "source": [
        "data"
      ],
      "execution_count": 0,
      "outputs": [
        {
          "output_type": "execute_result",
          "data": {
            "text/html": [
              "<div>\n",
              "<style scoped>\n",
              "    .dataframe tbody tr th:only-of-type {\n",
              "        vertical-align: middle;\n",
              "    }\n",
              "\n",
              "    .dataframe tbody tr th {\n",
              "        vertical-align: top;\n",
              "    }\n",
              "\n",
              "    .dataframe thead th {\n",
              "        text-align: right;\n",
              "    }\n",
              "</style>\n",
              "<table border=\"1\" class=\"dataframe\">\n",
              "  <thead>\n",
              "    <tr style=\"text-align: right;\">\n",
              "      <th></th>\n",
              "      <th>Order ID</th>\n",
              "      <th>Product</th>\n",
              "      <th>Quantity Ordered</th>\n",
              "      <th>Price Each</th>\n",
              "      <th>Order Date</th>\n",
              "      <th>Purchase Address</th>\n",
              "      <th>Month</th>\n",
              "      <th>Total Sales</th>\n",
              "      <th>City</th>\n",
              "    </tr>\n",
              "  </thead>\n",
              "  <tbody>\n",
              "    <tr>\n",
              "      <th>0</th>\n",
              "      <td>176558</td>\n",
              "      <td>USB-C Charging Cable</td>\n",
              "      <td>2</td>\n",
              "      <td>11.95</td>\n",
              "      <td>04/19/19 08:46</td>\n",
              "      <td>917 1st St, Dallas, TX 75001</td>\n",
              "      <td>4</td>\n",
              "      <td>23.90</td>\n",
              "      <td>Dallas,TX</td>\n",
              "    </tr>\n",
              "    <tr>\n",
              "      <th>2</th>\n",
              "      <td>176559</td>\n",
              "      <td>Bose SoundSport Headphones</td>\n",
              "      <td>1</td>\n",
              "      <td>99.99</td>\n",
              "      <td>04/07/19 22:30</td>\n",
              "      <td>682 Chestnut St, Boston, MA 02215</td>\n",
              "      <td>4</td>\n",
              "      <td>99.99</td>\n",
              "      <td>Boston,MA</td>\n",
              "    </tr>\n",
              "    <tr>\n",
              "      <th>3</th>\n",
              "      <td>176560</td>\n",
              "      <td>Google Phone</td>\n",
              "      <td>1</td>\n",
              "      <td>600.00</td>\n",
              "      <td>04/12/19 14:38</td>\n",
              "      <td>669 Spruce St, Los Angeles, CA 90001</td>\n",
              "      <td>4</td>\n",
              "      <td>600.00</td>\n",
              "      <td>Los Angeles,CA</td>\n",
              "    </tr>\n",
              "    <tr>\n",
              "      <th>4</th>\n",
              "      <td>176560</td>\n",
              "      <td>Wired Headphones</td>\n",
              "      <td>1</td>\n",
              "      <td>11.99</td>\n",
              "      <td>04/12/19 14:38</td>\n",
              "      <td>669 Spruce St, Los Angeles, CA 90001</td>\n",
              "      <td>4</td>\n",
              "      <td>11.99</td>\n",
              "      <td>Los Angeles,CA</td>\n",
              "    </tr>\n",
              "    <tr>\n",
              "      <th>5</th>\n",
              "      <td>176561</td>\n",
              "      <td>Wired Headphones</td>\n",
              "      <td>1</td>\n",
              "      <td>11.99</td>\n",
              "      <td>04/30/19 09:27</td>\n",
              "      <td>333 8th St, Los Angeles, CA 90001</td>\n",
              "      <td>4</td>\n",
              "      <td>11.99</td>\n",
              "      <td>Los Angeles,CA</td>\n",
              "    </tr>\n",
              "    <tr>\n",
              "      <th>...</th>\n",
              "      <td>...</td>\n",
              "      <td>...</td>\n",
              "      <td>...</td>\n",
              "      <td>...</td>\n",
              "      <td>...</td>\n",
              "      <td>...</td>\n",
              "      <td>...</td>\n",
              "      <td>...</td>\n",
              "      <td>...</td>\n",
              "    </tr>\n",
              "    <tr>\n",
              "      <th>186845</th>\n",
              "      <td>259353</td>\n",
              "      <td>AAA Batteries (4-pack)</td>\n",
              "      <td>3</td>\n",
              "      <td>2.99</td>\n",
              "      <td>09/17/19 20:56</td>\n",
              "      <td>840 Highland St, Los Angeles, CA 90001</td>\n",
              "      <td>9</td>\n",
              "      <td>8.97</td>\n",
              "      <td>Los Angeles,CA</td>\n",
              "    </tr>\n",
              "    <tr>\n",
              "      <th>186846</th>\n",
              "      <td>259354</td>\n",
              "      <td>iPhone</td>\n",
              "      <td>1</td>\n",
              "      <td>700.00</td>\n",
              "      <td>09/01/19 16:00</td>\n",
              "      <td>216 Dogwood St, San Francisco, CA 94016</td>\n",
              "      <td>9</td>\n",
              "      <td>700.00</td>\n",
              "      <td>San Francisco,CA</td>\n",
              "    </tr>\n",
              "    <tr>\n",
              "      <th>186847</th>\n",
              "      <td>259355</td>\n",
              "      <td>iPhone</td>\n",
              "      <td>1</td>\n",
              "      <td>700.00</td>\n",
              "      <td>09/23/19 07:39</td>\n",
              "      <td>220 12th St, San Francisco, CA 94016</td>\n",
              "      <td>9</td>\n",
              "      <td>700.00</td>\n",
              "      <td>San Francisco,CA</td>\n",
              "    </tr>\n",
              "    <tr>\n",
              "      <th>186848</th>\n",
              "      <td>259356</td>\n",
              "      <td>34in Ultrawide Monitor</td>\n",
              "      <td>1</td>\n",
              "      <td>379.99</td>\n",
              "      <td>09/19/19 17:30</td>\n",
              "      <td>511 Forest St, San Francisco, CA 94016</td>\n",
              "      <td>9</td>\n",
              "      <td>379.99</td>\n",
              "      <td>San Francisco,CA</td>\n",
              "    </tr>\n",
              "    <tr>\n",
              "      <th>186849</th>\n",
              "      <td>259357</td>\n",
              "      <td>USB-C Charging Cable</td>\n",
              "      <td>1</td>\n",
              "      <td>11.95</td>\n",
              "      <td>09/30/19 00:18</td>\n",
              "      <td>250 Meadow St, San Francisco, CA 94016</td>\n",
              "      <td>9</td>\n",
              "      <td>11.95</td>\n",
              "      <td>San Francisco,CA</td>\n",
              "    </tr>\n",
              "  </tbody>\n",
              "</table>\n",
              "<p>185950 rows × 9 columns</p>\n",
              "</div>"
            ],
            "text/plain": [
              "       Order ID                     Product  Quantity Ordered  Price Each  \\\n",
              "0        176558        USB-C Charging Cable                 2       11.95   \n",
              "2        176559  Bose SoundSport Headphones                 1       99.99   \n",
              "3        176560                Google Phone                 1      600.00   \n",
              "4        176560            Wired Headphones                 1       11.99   \n",
              "5        176561            Wired Headphones                 1       11.99   \n",
              "...         ...                         ...               ...         ...   \n",
              "186845   259353      AAA Batteries (4-pack)                 3        2.99   \n",
              "186846   259354                      iPhone                 1      700.00   \n",
              "186847   259355                      iPhone                 1      700.00   \n",
              "186848   259356      34in Ultrawide Monitor                 1      379.99   \n",
              "186849   259357        USB-C Charging Cable                 1       11.95   \n",
              "\n",
              "            Order Date                         Purchase Address  Month  \\\n",
              "0       04/19/19 08:46             917 1st St, Dallas, TX 75001      4   \n",
              "2       04/07/19 22:30        682 Chestnut St, Boston, MA 02215      4   \n",
              "3       04/12/19 14:38     669 Spruce St, Los Angeles, CA 90001      4   \n",
              "4       04/12/19 14:38     669 Spruce St, Los Angeles, CA 90001      4   \n",
              "5       04/30/19 09:27        333 8th St, Los Angeles, CA 90001      4   \n",
              "...                ...                                      ...    ...   \n",
              "186845  09/17/19 20:56   840 Highland St, Los Angeles, CA 90001      9   \n",
              "186846  09/01/19 16:00  216 Dogwood St, San Francisco, CA 94016      9   \n",
              "186847  09/23/19 07:39     220 12th St, San Francisco, CA 94016      9   \n",
              "186848  09/19/19 17:30   511 Forest St, San Francisco, CA 94016      9   \n",
              "186849  09/30/19 00:18   250 Meadow St, San Francisco, CA 94016      9   \n",
              "\n",
              "        Total Sales               City  \n",
              "0             23.90          Dallas,TX  \n",
              "2             99.99          Boston,MA  \n",
              "3            600.00     Los Angeles,CA  \n",
              "4             11.99     Los Angeles,CA  \n",
              "5             11.99     Los Angeles,CA  \n",
              "...             ...                ...  \n",
              "186845         8.97     Los Angeles,CA  \n",
              "186846       700.00   San Francisco,CA  \n",
              "186847       700.00   San Francisco,CA  \n",
              "186848       379.99   San Francisco,CA  \n",
              "186849        11.95   San Francisco,CA  \n",
              "\n",
              "[185950 rows x 9 columns]"
            ]
          },
          "metadata": {
            "tags": []
          },
          "execution_count": 15
        }
      ]
    },
    {
      "cell_type": "code",
      "metadata": {
        "id": "A47jJ8YL5Xpf",
        "colab_type": "code",
        "colab": {},
        "outputId": "68e569b7-6f49-406f-c3bb-0b555720060d"
      },
      "source": [
        "results=data.groupby('City')['Total Sales'].sum()\n",
        "results"
      ],
      "execution_count": 0,
      "outputs": [
        {
          "output_type": "execute_result",
          "data": {
            "text/plain": [
              "City\n",
              " Atlanta,GA          2.795499e+06\n",
              " Austin,TX           1.819582e+06\n",
              " Boston,MA           3.661642e+06\n",
              " Dallas,TX           2.767975e+06\n",
              " Los Angeles,CA      5.452571e+06\n",
              " New York City,NY    4.664317e+06\n",
              " Portland,ME         4.497583e+05\n",
              " Portland,OR         1.870732e+06\n",
              " San Francisco,CA    8.262204e+06\n",
              " Seattle,WA          2.747755e+06\n",
              "Name: Total Sales, dtype: float64"
            ]
          },
          "metadata": {
            "tags": []
          },
          "execution_count": 16
        }
      ]
    },
    {
      "cell_type": "code",
      "metadata": {
        "id": "PUO-8S8L5Xph",
        "colab_type": "code",
        "colab": {},
        "outputId": "3c55186f-62e8-4f8e-e80f-f643a1186a72"
      },
      "source": [
        "import matplotlib.pyplot as plt\n",
        "cities=data['City'].unique()\n",
        "plt.bar(cities,results)\n",
        "plt.xticks(cities,rotation='vertical',size=8)\n",
        "plt.ylabel('Sales in USD ($)')\n",
        "plt.xlabel('City Name')\n",
        "plt.show()"
      ],
      "execution_count": 0,
      "outputs": [
        {
          "output_type": "display_data",
          "data": {
            "image/png": "[encoded data removed]",
            "text/plain": [
              "<Figure size 432x288 with 1 Axes>"
            ]
          },
          "metadata": {
            "tags": [],
            "needs_background": "light"
          }
        }
      ]
    },
    {
      "cell_type": "code",
      "metadata": {
        "id": "NkY1m_Q95Xpk",
        "colab_type": "code",
        "colab": {}
      },
      "source": [
        ""
      ],
      "execution_count": 0,
      "outputs": []
    },
    {
      "cell_type": "markdown",
      "metadata": {
        "id": "XCVqgzP95Xp3",
        "colab_type": "text"
      },
      "source": [
        "## Q3. What time should we display advertisements to maximize likelihood of customer's buying products?"
      ]
    },
    {
      "cell_type": "code",
      "metadata": {
        "id": "xAUAfHWi5Xp4",
        "colab_type": "code",
        "colab": {}
      },
      "source": [
        "data['Order Date']=pd.to_datetime(data['Order Date'])"
      ],
      "execution_count": 0,
      "outputs": []
    },
    {
      "cell_type": "code",
      "metadata": {
        "id": "PnbFhyhv5Xp6",
        "colab_type": "code",
        "colab": {}
      },
      "source": [
        "data['Hour']=data['Order Date'].dt.hour\n",
        "data['Minute']=data['Order Date'].dt.minute"
      ],
      "execution_count": 0,
      "outputs": []
    },
    {
      "cell_type": "code",
      "metadata": {
        "id": "-L5G2Aab5Xp8",
        "colab_type": "code",
        "colab": {},
        "outputId": "2433369f-55a0-4088-f08e-645abbe6b071"
      },
      "source": [
        "data"
      ],
      "execution_count": 0,
      "outputs": [
        {
          "output_type": "execute_result",
          "data": {
            "text/html": [
              "<div>\n",
              "<style scoped>\n",
              "    .dataframe tbody tr th:only-of-type {\n",
              "        vertical-align: middle;\n",
              "    }\n",
              "\n",
              "    .dataframe tbody tr th {\n",
              "        vertical-align: top;\n",
              "    }\n",
              "\n",
              "    .dataframe thead th {\n",
              "        text-align: right;\n",
              "    }\n",
              "</style>\n",
              "<table border=\"1\" class=\"dataframe\">\n",
              "  <thead>\n",
              "    <tr style=\"text-align: right;\">\n",
              "      <th></th>\n",
              "      <th>Order ID</th>\n",
              "      <th>Product</th>\n",
              "      <th>Quantity Ordered</th>\n",
              "      <th>Price Each</th>\n",
              "      <th>Order Date</th>\n",
              "      <th>Purchase Address</th>\n",
              "      <th>Month</th>\n",
              "      <th>Total Sales</th>\n",
              "      <th>City</th>\n",
              "      <th>Hour</th>\n",
              "      <th>Minute</th>\n",
              "    </tr>\n",
              "  </thead>\n",
              "  <tbody>\n",
              "    <tr>\n",
              "      <th>0</th>\n",
              "      <td>176558</td>\n",
              "      <td>USB-C Charging Cable</td>\n",
              "      <td>2</td>\n",
              "      <td>11.95</td>\n",
              "      <td>2019-04-19 08:46:00</td>\n",
              "      <td>917 1st St, Dallas, TX 75001</td>\n",
              "      <td>4</td>\n",
              "      <td>23.90</td>\n",
              "      <td>Dallas,TX</td>\n",
              "      <td>8</td>\n",
              "      <td>46</td>\n",
              "    </tr>\n",
              "    <tr>\n",
              "      <th>2</th>\n",
              "      <td>176559</td>\n",
              "      <td>Bose SoundSport Headphones</td>\n",
              "      <td>1</td>\n",
              "      <td>99.99</td>\n",
              "      <td>2019-04-07 22:30:00</td>\n",
              "      <td>682 Chestnut St, Boston, MA 02215</td>\n",
              "      <td>4</td>\n",
              "      <td>99.99</td>\n",
              "      <td>Boston,MA</td>\n",
              "      <td>22</td>\n",
              "      <td>30</td>\n",
              "    </tr>\n",
              "    <tr>\n",
              "      <th>3</th>\n",
              "      <td>176560</td>\n",
              "      <td>Google Phone</td>\n",
              "      <td>1</td>\n",
              "      <td>600.00</td>\n",
              "      <td>2019-04-12 14:38:00</td>\n",
              "      <td>669 Spruce St, Los Angeles, CA 90001</td>\n",
              "      <td>4</td>\n",
              "      <td>600.00</td>\n",
              "      <td>Los Angeles,CA</td>\n",
              "      <td>14</td>\n",
              "      <td>38</td>\n",
              "    </tr>\n",
              "    <tr>\n",
              "      <th>4</th>\n",
              "      <td>176560</td>\n",
              "      <td>Wired Headphones</td>\n",
              "      <td>1</td>\n",
              "      <td>11.99</td>\n",
              "      <td>2019-04-12 14:38:00</td>\n",
              "      <td>669 Spruce St, Los Angeles, CA 90001</td>\n",
              "      <td>4</td>\n",
              "      <td>11.99</td>\n",
              "      <td>Los Angeles,CA</td>\n",
              "      <td>14</td>\n",
              "      <td>38</td>\n",
              "    </tr>\n",
              "    <tr>\n",
              "      <th>5</th>\n",
              "      <td>176561</td>\n",
              "      <td>Wired Headphones</td>\n",
              "      <td>1</td>\n",
              "      <td>11.99</td>\n",
              "      <td>2019-04-30 09:27:00</td>\n",
              "      <td>333 8th St, Los Angeles, CA 90001</td>\n",
              "      <td>4</td>\n",
              "      <td>11.99</td>\n",
              "      <td>Los Angeles,CA</td>\n",
              "      <td>9</td>\n",
              "      <td>27</td>\n",
              "    </tr>\n",
              "    <tr>\n",
              "      <th>...</th>\n",
              "      <td>...</td>\n",
              "      <td>...</td>\n",
              "      <td>...</td>\n",
              "      <td>...</td>\n",
              "      <td>...</td>\n",
              "      <td>...</td>\n",
              "      <td>...</td>\n",
              "      <td>...</td>\n",
              "      <td>...</td>\n",
              "      <td>...</td>\n",
              "      <td>...</td>\n",
              "    </tr>\n",
              "    <tr>\n",
              "      <th>186845</th>\n",
              "      <td>259353</td>\n",
              "      <td>AAA Batteries (4-pack)</td>\n",
              "      <td>3</td>\n",
              "      <td>2.99</td>\n",
              "      <td>2019-09-17 20:56:00</td>\n",
              "      <td>840 Highland St, Los Angeles, CA 90001</td>\n",
              "      <td>9</td>\n",
              "      <td>8.97</td>\n",
              "      <td>Los Angeles,CA</td>\n",
              "      <td>20</td>\n",
              "      <td>56</td>\n",
              "    </tr>\n",
              "    <tr>\n",
              "      <th>186846</th>\n",
              "      <td>259354</td>\n",
              "      <td>iPhone</td>\n",
              "      <td>1</td>\n",
              "      <td>700.00</td>\n",
              "      <td>2019-09-01 16:00:00</td>\n",
              "      <td>216 Dogwood St, San Francisco, CA 94016</td>\n",
              "      <td>9</td>\n",
              "      <td>700.00</td>\n",
              "      <td>San Francisco,CA</td>\n",
              "      <td>16</td>\n",
              "      <td>0</td>\n",
              "    </tr>\n",
              "    <tr>\n",
              "      <th>186847</th>\n",
              "      <td>259355</td>\n",
              "      <td>iPhone</td>\n",
              "      <td>1</td>\n",
              "      <td>700.00</td>\n",
              "      <td>2019-09-23 07:39:00</td>\n",
              "      <td>220 12th St, San Francisco, CA 94016</td>\n",
              "      <td>9</td>\n",
              "      <td>700.00</td>\n",
              "      <td>San Francisco,CA</td>\n",
              "      <td>7</td>\n",
              "      <td>39</td>\n",
              "    </tr>\n",
              "    <tr>\n",
              "      <th>186848</th>\n",
              "      <td>259356</td>\n",
              "      <td>34in Ultrawide Monitor</td>\n",
              "      <td>1</td>\n",
              "      <td>379.99</td>\n",
              "      <td>2019-09-19 17:30:00</td>\n",
              "      <td>511 Forest St, San Francisco, CA 94016</td>\n",
              "      <td>9</td>\n",
              "      <td>379.99</td>\n",
              "      <td>San Francisco,CA</td>\n",
              "      <td>17</td>\n",
              "      <td>30</td>\n",
              "    </tr>\n",
              "    <tr>\n",
              "      <th>186849</th>\n",
              "      <td>259357</td>\n",
              "      <td>USB-C Charging Cable</td>\n",
              "      <td>1</td>\n",
              "      <td>11.95</td>\n",
              "      <td>2019-09-30 00:18:00</td>\n",
              "      <td>250 Meadow St, San Francisco, CA 94016</td>\n",
              "      <td>9</td>\n",
              "      <td>11.95</td>\n",
              "      <td>San Francisco,CA</td>\n",
              "      <td>0</td>\n",
              "      <td>18</td>\n",
              "    </tr>\n",
              "  </tbody>\n",
              "</table>\n",
              "<p>185950 rows × 11 columns</p>\n",
              "</div>"
            ],
            "text/plain": [
              "       Order ID                     Product  Quantity Ordered  Price Each  \\\n",
              "0        176558        USB-C Charging Cable                 2       11.95   \n",
              "2        176559  Bose SoundSport Headphones                 1       99.99   \n",
              "3        176560                Google Phone                 1      600.00   \n",
              "4        176560            Wired Headphones                 1       11.99   \n",
              "5        176561            Wired Headphones                 1       11.99   \n",
              "...         ...                         ...               ...         ...   \n",
              "186845   259353      AAA Batteries (4-pack)                 3        2.99   \n",
              "186846   259354                      iPhone                 1      700.00   \n",
              "186847   259355                      iPhone                 1      700.00   \n",
              "186848   259356      34in Ultrawide Monitor                 1      379.99   \n",
              "186849   259357        USB-C Charging Cable                 1       11.95   \n",
              "\n",
              "                Order Date                         Purchase Address  Month  \\\n",
              "0      2019-04-19 08:46:00             917 1st St, Dallas, TX 75001      4   \n",
              "2      2019-04-07 22:30:00        682 Chestnut St, Boston, MA 02215      4   \n",
              "3      2019-04-12 14:38:00     669 Spruce St, Los Angeles, CA 90001      4   \n",
              "4      2019-04-12 14:38:00     669 Spruce St, Los Angeles, CA 90001      4   \n",
              "5      2019-04-30 09:27:00        333 8th St, Los Angeles, CA 90001      4   \n",
              "...                    ...                                      ...    ...   \n",
              "186845 2019-09-17 20:56:00   840 Highland St, Los Angeles, CA 90001      9   \n",
              "186846 2019-09-01 16:00:00  216 Dogwood St, San Francisco, CA 94016      9   \n",
              "186847 2019-09-23 07:39:00     220 12th St, San Francisco, CA 94016      9   \n",
              "186848 2019-09-19 17:30:00   511 Forest St, San Francisco, CA 94016      9   \n",
              "186849 2019-09-30 00:18:00   250 Meadow St, San Francisco, CA 94016      9   \n",
              "\n",
              "        Total Sales               City  Hour  Minute  \n",
              "0             23.90          Dallas,TX     8      46  \n",
              "2             99.99          Boston,MA    22      30  \n",
              "3            600.00     Los Angeles,CA    14      38  \n",
              "4             11.99     Los Angeles,CA    14      38  \n",
              "5             11.99     Los Angeles,CA     9      27  \n",
              "...             ...                ...   ...     ...  \n",
              "186845         8.97     Los Angeles,CA    20      56  \n",
              "186846       700.00   San Francisco,CA    16       0  \n",
              "186847       700.00   San Francisco,CA     7      39  \n",
              "186848       379.99   San Francisco,CA    17      30  \n",
              "186849        11.95   San Francisco,CA     0      18  \n",
              "\n",
              "[185950 rows x 11 columns]"
            ]
          },
          "metadata": {
            "tags": []
          },
          "execution_count": 20
        }
      ]
    },
    {
      "cell_type": "code",
      "metadata": {
        "id": "VlBdC4Ot5Xp_",
        "colab_type": "code",
        "colab": {},
        "outputId": "f76c9914-792f-486a-b170-09c02b696935"
      },
      "source": [
        "hours=[hour for hour, df in data.groupby('Hour')]\n",
        "plt.plot(hours,data.groupby('Hour').count())\n",
        "plt.grid()\n",
        "plt.xticks(hours,size=10)\n",
        "plt.xlabel(\"Hours\")\n",
        "plt.ylabel(\"No of orders\")\n",
        "plt.show()\n",
        "\n",
        "#Advertisement should be displayed around 11/12 am or 7 pm"
      ],
      "execution_count": 0,
      "outputs": [
        {
          "output_type": "display_data",
          "data": {
            "image/png": "[encoded data removed]",
            "text/plain": [
              "<Figure size 432x288 with 1 Axes>"
            ]
          },
          "metadata": {
            "tags": [],
            "needs_background": "light"
          }
        }
      ]
    },
    {
      "cell_type": "code",
      "metadata": {
        "id": "OYC3EEQp5XqB",
        "colab_type": "code",
        "colab": {}
      },
      "source": [
        ""
      ],
      "execution_count": 0,
      "outputs": []
    },
    {
      "cell_type": "markdown",
      "metadata": {
        "id": "s_Phwxxt5XqN",
        "colab_type": "text"
      },
      "source": [
        "## Q4. What products are most often sold together? "
      ]
    },
    {
      "cell_type": "code",
      "metadata": {
        "scrolled": false,
        "id": "LJtd9I6f5XqN",
        "colab_type": "code",
        "colab": {},
        "outputId": "dd4564ca-99cb-4733-da97-3971e360882f"
      },
      "source": [
        "data"
      ],
      "execution_count": 0,
      "outputs": [
        {
          "output_type": "execute_result",
          "data": {
            "text/html": [
              "<div>\n",
              "<style scoped>\n",
              "    .dataframe tbody tr th:only-of-type {\n",
              "        vertical-align: middle;\n",
              "    }\n",
              "\n",
              "    .dataframe tbody tr th {\n",
              "        vertical-align: top;\n",
              "    }\n",
              "\n",
              "    .dataframe thead th {\n",
              "        text-align: right;\n",
              "    }\n",
              "</style>\n",
              "<table border=\"1\" class=\"dataframe\">\n",
              "  <thead>\n",
              "    <tr style=\"text-align: right;\">\n",
              "      <th></th>\n",
              "      <th>Order ID</th>\n",
              "      <th>Product</th>\n",
              "      <th>Quantity Ordered</th>\n",
              "      <th>Price Each</th>\n",
              "      <th>Order Date</th>\n",
              "      <th>Purchase Address</th>\n",
              "      <th>Month</th>\n",
              "      <th>Total Sales</th>\n",
              "      <th>City</th>\n",
              "      <th>Hour</th>\n",
              "      <th>Minute</th>\n",
              "    </tr>\n",
              "  </thead>\n",
              "  <tbody>\n",
              "    <tr>\n",
              "      <th>0</th>\n",
              "      <td>176558</td>\n",
              "      <td>USB-C Charging Cable</td>\n",
              "      <td>2</td>\n",
              "      <td>11.95</td>\n",
              "      <td>2019-04-19 08:46:00</td>\n",
              "      <td>917 1st St, Dallas, TX 75001</td>\n",
              "      <td>4</td>\n",
              "      <td>23.90</td>\n",
              "      <td>Dallas,TX</td>\n",
              "      <td>8</td>\n",
              "      <td>46</td>\n",
              "    </tr>\n",
              "    <tr>\n",
              "      <th>2</th>\n",
              "      <td>176559</td>\n",
              "      <td>Bose SoundSport Headphones</td>\n",
              "      <td>1</td>\n",
              "      <td>99.99</td>\n",
              "      <td>2019-04-07 22:30:00</td>\n",
              "      <td>682 Chestnut St, Boston, MA 02215</td>\n",
              "      <td>4</td>\n",
              "      <td>99.99</td>\n",
              "      <td>Boston,MA</td>\n",
              "      <td>22</td>\n",
              "      <td>30</td>\n",
              "    </tr>\n",
              "    <tr>\n",
              "      <th>3</th>\n",
              "      <td>176560</td>\n",
              "      <td>Google Phone</td>\n",
              "      <td>1</td>\n",
              "      <td>600.00</td>\n",
              "      <td>2019-04-12 14:38:00</td>\n",
              "      <td>669 Spruce St, Los Angeles, CA 90001</td>\n",
              "      <td>4</td>\n",
              "      <td>600.00</td>\n",
              "      <td>Los Angeles,CA</td>\n",
              "      <td>14</td>\n",
              "      <td>38</td>\n",
              "    </tr>\n",
              "    <tr>\n",
              "      <th>4</th>\n",
              "      <td>176560</td>\n",
              "      <td>Wired Headphones</td>\n",
              "      <td>1</td>\n",
              "      <td>11.99</td>\n",
              "      <td>2019-04-12 14:38:00</td>\n",
              "      <td>669 Spruce St, Los Angeles, CA 90001</td>\n",
              "      <td>4</td>\n",
              "      <td>11.99</td>\n",
              "      <td>Los Angeles,CA</td>\n",
              "      <td>14</td>\n",
              "      <td>38</td>\n",
              "    </tr>\n",
              "    <tr>\n",
              "      <th>5</th>\n",
              "      <td>176561</td>\n",
              "      <td>Wired Headphones</td>\n",
              "      <td>1</td>\n",
              "      <td>11.99</td>\n",
              "      <td>2019-04-30 09:27:00</td>\n",
              "      <td>333 8th St, Los Angeles, CA 90001</td>\n",
              "      <td>4</td>\n",
              "      <td>11.99</td>\n",
              "      <td>Los Angeles,CA</td>\n",
              "      <td>9</td>\n",
              "      <td>27</td>\n",
              "    </tr>\n",
              "    <tr>\n",
              "      <th>...</th>\n",
              "      <td>...</td>\n",
              "      <td>...</td>\n",
              "      <td>...</td>\n",
              "      <td>...</td>\n",
              "      <td>...</td>\n",
              "      <td>...</td>\n",
              "      <td>...</td>\n",
              "      <td>...</td>\n",
              "      <td>...</td>\n",
              "      <td>...</td>\n",
              "      <td>...</td>\n",
              "    </tr>\n",
              "    <tr>\n",
              "      <th>186845</th>\n",
              "      <td>259353</td>\n",
              "      <td>AAA Batteries (4-pack)</td>\n",
              "      <td>3</td>\n",
              "      <td>2.99</td>\n",
              "      <td>2019-09-17 20:56:00</td>\n",
              "      <td>840 Highland St, Los Angeles, CA 90001</td>\n",
              "      <td>9</td>\n",
              "      <td>8.97</td>\n",
              "      <td>Los Angeles,CA</td>\n",
              "      <td>20</td>\n",
              "      <td>56</td>\n",
              "    </tr>\n",
              "    <tr>\n",
              "      <th>186846</th>\n",
              "      <td>259354</td>\n",
              "      <td>iPhone</td>\n",
              "      <td>1</td>\n",
              "      <td>700.00</td>\n",
              "      <td>2019-09-01 16:00:00</td>\n",
              "      <td>216 Dogwood St, San Francisco, CA 94016</td>\n",
              "      <td>9</td>\n",
              "      <td>700.00</td>\n",
              "      <td>San Francisco,CA</td>\n",
              "      <td>16</td>\n",
              "      <td>0</td>\n",
              "    </tr>\n",
              "    <tr>\n",
              "      <th>186847</th>\n",
              "      <td>259355</td>\n",
              "      <td>iPhone</td>\n",
              "      <td>1</td>\n",
              "      <td>700.00</td>\n",
              "      <td>2019-09-23 07:39:00</td>\n",
              "      <td>220 12th St, San Francisco, CA 94016</td>\n",
              "      <td>9</td>\n",
              "      <td>700.00</td>\n",
              "      <td>San Francisco,CA</td>\n",
              "      <td>7</td>\n",
              "      <td>39</td>\n",
              "    </tr>\n",
              "    <tr>\n",
              "      <th>186848</th>\n",
              "      <td>259356</td>\n",
              "      <td>34in Ultrawide Monitor</td>\n",
              "      <td>1</td>\n",
              "      <td>379.99</td>\n",
              "      <td>2019-09-19 17:30:00</td>\n",
              "      <td>511 Forest St, San Francisco, CA 94016</td>\n",
              "      <td>9</td>\n",
              "      <td>379.99</td>\n",
              "      <td>San Francisco,CA</td>\n",
              "      <td>17</td>\n",
              "      <td>30</td>\n",
              "    </tr>\n",
              "    <tr>\n",
              "      <th>186849</th>\n",
              "      <td>259357</td>\n",
              "      <td>USB-C Charging Cable</td>\n",
              "      <td>1</td>\n",
              "      <td>11.95</td>\n",
              "      <td>2019-09-30 00:18:00</td>\n",
              "      <td>250 Meadow St, San Francisco, CA 94016</td>\n",
              "      <td>9</td>\n",
              "      <td>11.95</td>\n",
              "      <td>San Francisco,CA</td>\n",
              "      <td>0</td>\n",
              "      <td>18</td>\n",
              "    </tr>\n",
              "  </tbody>\n",
              "</table>\n",
              "<p>185950 rows × 11 columns</p>\n",
              "</div>"
            ],
            "text/plain": [
              "       Order ID                     Product  Quantity Ordered  Price Each  \\\n",
              "0        176558        USB-C Charging Cable                 2       11.95   \n",
              "2        176559  Bose SoundSport Headphones                 1       99.99   \n",
              "3        176560                Google Phone                 1      600.00   \n",
              "4        176560            Wired Headphones                 1       11.99   \n",
              "5        176561            Wired Headphones                 1       11.99   \n",
              "...         ...                         ...               ...         ...   \n",
              "186845   259353      AAA Batteries (4-pack)                 3        2.99   \n",
              "186846   259354                      iPhone                 1      700.00   \n",
              "186847   259355                      iPhone                 1      700.00   \n",
              "186848   259356      34in Ultrawide Monitor                 1      379.99   \n",
              "186849   259357        USB-C Charging Cable                 1       11.95   \n",
              "\n",
              "                Order Date                         Purchase Address  Month  \\\n",
              "0      2019-04-19 08:46:00             917 1st St, Dallas, TX 75001      4   \n",
              "2      2019-04-07 22:30:00        682 Chestnut St, Boston, MA 02215      4   \n",
              "3      2019-04-12 14:38:00     669 Spruce St, Los Angeles, CA 90001      4   \n",
              "4      2019-04-12 14:38:00     669 Spruce St, Los Angeles, CA 90001      4   \n",
              "5      2019-04-30 09:27:00        333 8th St, Los Angeles, CA 90001      4   \n",
              "...                    ...                                      ...    ...   \n",
              "186845 2019-09-17 20:56:00   840 Highland St, Los Angeles, CA 90001      9   \n",
              "186846 2019-09-01 16:00:00  216 Dogwood St, San Francisco, CA 94016      9   \n",
              "186847 2019-09-23 07:39:00     220 12th St, San Francisco, CA 94016      9   \n",
              "186848 2019-09-19 17:30:00   511 Forest St, San Francisco, CA 94016      9   \n",
              "186849 2019-09-30 00:18:00   250 Meadow St, San Francisco, CA 94016      9   \n",
              "\n",
              "        Total Sales               City  Hour  Minute  \n",
              "0             23.90          Dallas,TX     8      46  \n",
              "2             99.99          Boston,MA    22      30  \n",
              "3            600.00     Los Angeles,CA    14      38  \n",
              "4             11.99     Los Angeles,CA    14      38  \n",
              "5             11.99     Los Angeles,CA     9      27  \n",
              "...             ...                ...   ...     ...  \n",
              "186845         8.97     Los Angeles,CA    20      56  \n",
              "186846       700.00   San Francisco,CA    16       0  \n",
              "186847       700.00   San Francisco,CA     7      39  \n",
              "186848       379.99   San Francisco,CA    17      30  \n",
              "186849        11.95   San Francisco,CA     0      18  \n",
              "\n",
              "[185950 rows x 11 columns]"
            ]
          },
          "metadata": {
            "tags": []
          },
          "execution_count": 22
        }
      ]
    },
    {
      "cell_type": "code",
      "metadata": {
        "id": "a3OKoXra5XqQ",
        "colab_type": "code",
        "colab": {},
        "outputId": "df480f66-db3b-4848-a272-ced6dfd447d6"
      },
      "source": [
        "df=data[data['Order ID'].duplicated(keep=False)]\n",
        "df['Grouped']=df.groupby('Order ID')['Product'].transform(lambda x: ','.join(x))\n",
        "df=df[['Order ID','Grouped']].drop_duplicates()\n",
        "df"
      ],
      "execution_count": 0,
      "outputs": [
        {
          "output_type": "stream",
          "text": [
            "C:\\Users\\ALEKHYO\\Anaconda3\\lib\\site-packages\\ipykernel_launcher.py:2: SettingWithCopyWarning: \n",
            "A value is trying to be set on a copy of a slice from a DataFrame.\n",
            "Try using .loc[row_indexer,col_indexer] = value instead\n",
            "\n",
            "See the caveats in the documentation: https://pandas.pydata.org/pandas-docs/stable/user_guide/indexing.html#returning-a-view-versus-a-copy\n",
            "  \n"
          ],
          "name": "stderr"
        },
        {
          "output_type": "execute_result",
          "data": {
            "text/html": [
              "<div>\n",
              "<style scoped>\n",
              "    .dataframe tbody tr th:only-of-type {\n",
              "        vertical-align: middle;\n",
              "    }\n",
              "\n",
              "    .dataframe tbody tr th {\n",
              "        vertical-align: top;\n",
              "    }\n",
              "\n",
              "    .dataframe thead th {\n",
              "        text-align: right;\n",
              "    }\n",
              "</style>\n",
              "<table border=\"1\" class=\"dataframe\">\n",
              "  <thead>\n",
              "    <tr style=\"text-align: right;\">\n",
              "      <th></th>\n",
              "      <th>Order ID</th>\n",
              "      <th>Grouped</th>\n",
              "    </tr>\n",
              "  </thead>\n",
              "  <tbody>\n",
              "    <tr>\n",
              "      <th>3</th>\n",
              "      <td>176560</td>\n",
              "      <td>Google Phone,Wired Headphones</td>\n",
              "    </tr>\n",
              "    <tr>\n",
              "      <th>18</th>\n",
              "      <td>176574</td>\n",
              "      <td>Google Phone,USB-C Charging Cable</td>\n",
              "    </tr>\n",
              "    <tr>\n",
              "      <th>30</th>\n",
              "      <td>176585</td>\n",
              "      <td>Bose SoundSport Headphones,Bose SoundSport Hea...</td>\n",
              "    </tr>\n",
              "    <tr>\n",
              "      <th>32</th>\n",
              "      <td>176586</td>\n",
              "      <td>AAA Batteries (4-pack),Google Phone</td>\n",
              "    </tr>\n",
              "    <tr>\n",
              "      <th>119</th>\n",
              "      <td>176672</td>\n",
              "      <td>Lightning Charging Cable,USB-C Charging Cable</td>\n",
              "    </tr>\n",
              "    <tr>\n",
              "      <th>...</th>\n",
              "      <td>...</td>\n",
              "      <td>...</td>\n",
              "    </tr>\n",
              "    <tr>\n",
              "      <th>186781</th>\n",
              "      <td>259296</td>\n",
              "      <td>Apple Airpods Headphones,Apple Airpods Headphones</td>\n",
              "    </tr>\n",
              "    <tr>\n",
              "      <th>186783</th>\n",
              "      <td>259297</td>\n",
              "      <td>iPhone,Lightning Charging Cable,Lightning Char...</td>\n",
              "    </tr>\n",
              "    <tr>\n",
              "      <th>186791</th>\n",
              "      <td>259303</td>\n",
              "      <td>34in Ultrawide Monitor,AA Batteries (4-pack)</td>\n",
              "    </tr>\n",
              "    <tr>\n",
              "      <th>186803</th>\n",
              "      <td>259314</td>\n",
              "      <td>Wired Headphones,AAA Batteries (4-pack)</td>\n",
              "    </tr>\n",
              "    <tr>\n",
              "      <th>186841</th>\n",
              "      <td>259350</td>\n",
              "      <td>Google Phone,USB-C Charging Cable</td>\n",
              "    </tr>\n",
              "  </tbody>\n",
              "</table>\n",
              "<p>7136 rows × 2 columns</p>\n",
              "</div>"
            ],
            "text/plain": [
              "       Order ID                                            Grouped\n",
              "3        176560                      Google Phone,Wired Headphones\n",
              "18       176574                  Google Phone,USB-C Charging Cable\n",
              "30       176585  Bose SoundSport Headphones,Bose SoundSport Hea...\n",
              "32       176586                AAA Batteries (4-pack),Google Phone\n",
              "119      176672      Lightning Charging Cable,USB-C Charging Cable\n",
              "...         ...                                                ...\n",
              "186781   259296  Apple Airpods Headphones,Apple Airpods Headphones\n",
              "186783   259297  iPhone,Lightning Charging Cable,Lightning Char...\n",
              "186791   259303       34in Ultrawide Monitor,AA Batteries (4-pack)\n",
              "186803   259314            Wired Headphones,AAA Batteries (4-pack)\n",
              "186841   259350                  Google Phone,USB-C Charging Cable\n",
              "\n",
              "[7136 rows x 2 columns]"
            ]
          },
          "metadata": {
            "tags": []
          },
          "execution_count": 26
        }
      ]
    },
    {
      "cell_type": "code",
      "metadata": {
        "id": "gAae2Pef5XqU",
        "colab_type": "code",
        "colab": {},
        "outputId": "8076aa8b-a4c5-4778-b78c-5f1dd85e2b34"
      },
      "source": [
        "from itertools import combinations\n",
        "from collections import Counter\n",
        "count=Counter()\n",
        "\n",
        "for row in df['Grouped']:\n",
        "    row_list=row.split(',')\n",
        "    count.update(Counter(combinations(row_list,2)))\n",
        "\n",
        "#for x,y in count:\n",
        "#    print(x,\",\",y,end='\\n')\n",
        "\n",
        "for x,y in count.most_common(10):\n",
        "    print(x,\"  ,  \",y)\n",
        "\n",
        "#Offer on iPhone and Lightning Charging Cable can get more buyers"
      ],
      "execution_count": 0,
      "outputs": [
        {
          "output_type": "stream",
          "text": [
            "('iPhone', 'Lightning Charging Cable')   ,   1005\n",
            "('Google Phone', 'USB-C Charging Cable')   ,   987\n",
            "('iPhone', 'Wired Headphones')   ,   447\n",
            "('Google Phone', 'Wired Headphones')   ,   414\n",
            "('Vareebadd Phone', 'USB-C Charging Cable')   ,   361\n",
            "('iPhone', 'Apple Airpods Headphones')   ,   360\n",
            "('Google Phone', 'Bose SoundSport Headphones')   ,   220\n",
            "('USB-C Charging Cable', 'Wired Headphones')   ,   160\n",
            "('Vareebadd Phone', 'Wired Headphones')   ,   143\n",
            "('Lightning Charging Cable', 'Wired Headphones')   ,   92\n"
          ],
          "name": "stdout"
        }
      ]
    },
    {
      "cell_type": "code",
      "metadata": {
        "id": "NmFyovEd5XqV",
        "colab_type": "code",
        "colab": {}
      },
      "source": [
        ""
      ],
      "execution_count": 0,
      "outputs": []
    },
    {
      "cell_type": "code",
      "metadata": {
        "id": "gk2u-q-q5Xqh",
        "colab_type": "code",
        "colab": {}
      },
      "source": [
        ""
      ],
      "execution_count": 0,
      "outputs": []
    },
    {
      "cell_type": "markdown",
      "metadata": {
        "id": "dCkyyFMN5Xqi",
        "colab_type": "text"
      },
      "source": [
        "## Q5. What product sold the most and why?"
      ]
    },
    {
      "cell_type": "code",
      "metadata": {
        "id": "_39xS9dw5Xqi",
        "colab_type": "code",
        "colab": {},
        "outputId": "f5b362a4-396b-49d8-952c-784cb52ad1cb"
      },
      "source": [
        "data.groupby('Product')['Quantity Ordered'].sum()"
      ],
      "execution_count": 0,
      "outputs": [
        {
          "output_type": "execute_result",
          "data": {
            "text/plain": [
              "Product\n",
              "20in Monitor                   4129\n",
              "27in 4K Gaming Monitor         6244\n",
              "27in FHD Monitor               7550\n",
              "34in Ultrawide Monitor         6199\n",
              "AA Batteries (4-pack)         27635\n",
              "AAA Batteries (4-pack)        31017\n",
              "Apple Airpods Headphones      15661\n",
              "Bose SoundSport Headphones    13457\n",
              "Flatscreen TV                  4819\n",
              "Google Phone                   5532\n",
              "LG Dryer                        646\n",
              "LG Washing Machine              666\n",
              "Lightning Charging Cable      23217\n",
              "Macbook Pro Laptop             4728\n",
              "ThinkPad Laptop                4130\n",
              "USB-C Charging Cable          23975\n",
              "Vareebadd Phone                2068\n",
              "Wired Headphones              20557\n",
              "iPhone                         6849\n",
              "Name: Quantity Ordered, dtype: int64"
            ]
          },
          "metadata": {
            "tags": []
          },
          "execution_count": 38
        }
      ]
    },
    {
      "cell_type": "code",
      "metadata": {
        "id": "Gokthh5C5Xqk",
        "colab_type": "code",
        "colab": {},
        "outputId": "b99daf20-a6ba-4d64-913e-1d4a9a2311bb"
      },
      "source": [
        "products=[product for product,data in data.groupby('Product')]\n",
        "plt.bar(products,data.groupby('Product')['Quantity Ordered'].sum())\n",
        "\n",
        "plt.xticks(rotation='vertical',size=10)\n",
        "\n",
        "plt.show()"
      ],
      "execution_count": 0,
      "outputs": [
        {
          "output_type": "display_data",
          "data": {
            "image/png": "[encoded data removed]",
            "text/plain": [
              "<Figure size 432x288 with 1 Axes>"
            ]
          },
          "metadata": {
            "tags": [],
            "needs_background": "light"
          }
        }
      ]
    },
    {
      "cell_type": "code",
      "metadata": {
        "id": "aHJgjfO15Xqn",
        "colab_type": "code",
        "colab": {},
        "outputId": "eb82dd7f-105f-44da-c036-d54138bdaf2d"
      },
      "source": [
        "fig,ax1=plt.subplots()\n",
        "\n",
        "ax2=ax1.twinx()\n",
        "ax1.bar(products,data.groupby('Product')['Quantity Ordered'].sum(),color='g')\n",
        "ax2.plot(products,data.groupby('Product').mean()['Price Each'],color='r')\n",
        "\n",
        "ax1.set_xlabel('Product')\n",
        "ax1.set_ylabel('No. of Products')\n",
        "ax2.set_ylabel('Price Each')\n",
        "ax1.set_xticklabels(products,rotation='vertical',size=10)\n",
        "\n",
        "plt.show()\n",
        "\n",
        "\n",
        "##The product sold more has the lowest price"
      ],
      "execution_count": 0,
      "outputs": [
        {
          "output_type": "display_data",
          "data": {
            "image/png": "[encoded data removed]",
            "text/plain": [
              "<Figure size 432x288 with 2 Axes>"
            ]
          },
          "metadata": {
            "tags": [],
            "needs_background": "light"
          }
        }
      ]
    },
    {
      "cell_type": "markdown",
      "metadata": {
        "id": "DpYR18RR5Xqo",
        "colab_type": "text"
      },
      "source": [
        ""
      ]
    }
  ]
}